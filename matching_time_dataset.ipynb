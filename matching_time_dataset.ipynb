{
  "nbformat": 4,
  "nbformat_minor": 0,
  "metadata": {
    "colab": {
      "name": "matching_time_dataset.ipynb",
      "provenance": [],
      "collapsed_sections": [],
      "authorship_tag": "ABX9TyN1gUb7AwYUhMpIEV+/6ktC",
      "include_colab_link": true
    },
    "kernelspec": {
      "display_name": "Python 3",
      "name": "python3"
    },
    "language_info": {
      "name": "python"
    }
  },
  "cells": [
    {
      "cell_type": "markdown",
      "metadata": {
        "id": "view-in-github",
        "colab_type": "text"
      },
      "source": [
        "<a href=\"https://colab.research.google.com/github/nurahsanadzim/thesis_matching_dataset_result_with_label/blob/main/matching_time_dataset.ipynb\" target=\"_parent\"><img src=\"https://colab.research.google.com/assets/colab-badge.svg\" alt=\"Open In Colab\"/></a>"
      ]
    },
    {
      "cell_type": "markdown",
      "metadata": {
        "id": "VNB_I7POBqS3"
      },
      "source": [
        "NAIVE method"
      ]
    },
    {
      "cell_type": "code",
      "metadata": {
        "colab": {
          "base_uri": "https://localhost:8080/"
        },
        "id": "bo7bDE63xTI0",
        "outputId": "b8cb3dfd-311a-43e5-fce1-9012871ef653"
      },
      "source": [
        "import numpy as np\n",
        "import pandas as pd\n",
        "from google.colab import drive\n",
        "drive.mount('/content/gdrive')"
      ],
      "execution_count": 1,
      "outputs": [
        {
          "output_type": "stream",
          "text": [
            "Mounted at /content/gdrive\n"
          ],
          "name": "stdout"
        }
      ]
    },
    {
      "cell_type": "code",
      "metadata": {
        "colab": {
          "base_uri": "https://localhost:8080/"
        },
        "id": "rJS02dFB0jaR",
        "outputId": "a0acded5-eeb0-4e87-fa9e-fe6fb016e847"
      },
      "source": [
        "!ls '/content/gdrive/MyDrive/thesis_result/dataset_result/'"
      ],
      "execution_count": 19,
      "outputs": [
        {
          "output_type": "stream",
          "text": [
            "eight_240.csv  four_240.csv  six_240.csv  two_240.csv\n",
            "eight_360.csv  four_360.csv  six_360.csv  two_360.csv\n",
            "eight_480.csv  four_480.csv  six_480.csv  two_480.csv\n",
            "eight_720.csv  four_720.csv  six_720.csv  two_720.csv\n"
          ],
          "name": "stdout"
        }
      ]
    },
    {
      "cell_type": "code",
      "metadata": {
        "id": "vbRDFDzb06ad"
      },
      "source": [
        "import pandas as pd\n",
        "data = pd.read_csv('/content/gdrive/MyDrive/thesis_result/dataset_result/eight_720.csv')"
      ],
      "execution_count": 3,
      "outputs": []
    },
    {
      "cell_type": "code",
      "metadata": {
        "id": "2W1vmZPYGSXn"
      },
      "source": [
        "label = pd.read_csv('/content/gdrive/MyDrive/thesis_result/label_dataset.csv')"
      ],
      "execution_count": 4,
      "outputs": []
    },
    {
      "cell_type": "code",
      "metadata": {
        "id": "VmGmrUKt9yJX"
      },
      "source": [
        "# six object\n",
        "# participant = [1, 26, 31, 33, 34, 41]\n",
        "# four object\n",
        "# participant = [1, 26, 31, 33]\n",
        "# two object\n",
        "# participant = [1, 26]"
      ],
      "execution_count": 17,
      "outputs": []
    },
    {
      "cell_type": "code",
      "metadata": {
        "colab": {
          "base_uri": "https://localhost:8080/",
          "height": 424
        },
        "id": "OpMi4-3J8mef",
        "outputId": "ee935fb3-d7d8-43d9-d907-ab9ae7af60a2"
      },
      "source": [
        "label.loc[label.participant_number.isin(participant)]"
      ],
      "execution_count": 18,
      "outputs": [
        {
          "output_type": "execute_result",
          "data": {
            "text/html": [
              "<div>\n",
              "<style scoped>\n",
              "    .dataframe tbody tr th:only-of-type {\n",
              "        vertical-align: middle;\n",
              "    }\n",
              "\n",
              "    .dataframe tbody tr th {\n",
              "        vertical-align: top;\n",
              "    }\n",
              "\n",
              "    .dataframe thead th {\n",
              "        text-align: right;\n",
              "    }\n",
              "</style>\n",
              "<table border=\"1\" class=\"dataframe\">\n",
              "  <thead>\n",
              "    <tr style=\"text-align: right;\">\n",
              "      <th></th>\n",
              "      <th>timestamp</th>\n",
              "      <th>detector</th>\n",
              "      <th>participant_number</th>\n",
              "      <th>id_result</th>\n",
              "      <th>detected</th>\n",
              "      <th>exec_time</th>\n",
              "    </tr>\n",
              "  </thead>\n",
              "  <tbody>\n",
              "    <tr>\n",
              "      <th>0</th>\n",
              "      <td>0:17</td>\n",
              "      <td>ear</td>\n",
              "      <td>1</td>\n",
              "      <td>2</td>\n",
              "      <td>no</td>\n",
              "      <td>NaN</td>\n",
              "    </tr>\n",
              "    <tr>\n",
              "      <th>1</th>\n",
              "      <td>0:21</td>\n",
              "      <td>ear</td>\n",
              "      <td>1</td>\n",
              "      <td>2</td>\n",
              "      <td>no</td>\n",
              "      <td>NaN</td>\n",
              "    </tr>\n",
              "    <tr>\n",
              "      <th>2</th>\n",
              "      <td>0:36</td>\n",
              "      <td>ear</td>\n",
              "      <td>1</td>\n",
              "      <td>2</td>\n",
              "      <td>no</td>\n",
              "      <td>NaN</td>\n",
              "    </tr>\n",
              "    <tr>\n",
              "      <th>3</th>\n",
              "      <td>9:15</td>\n",
              "      <td>ear</td>\n",
              "      <td>1</td>\n",
              "      <td>2</td>\n",
              "      <td>no</td>\n",
              "      <td>NaN</td>\n",
              "    </tr>\n",
              "    <tr>\n",
              "      <th>4</th>\n",
              "      <td>1:57</td>\n",
              "      <td>mar</td>\n",
              "      <td>1</td>\n",
              "      <td>2</td>\n",
              "      <td>no</td>\n",
              "      <td>NaN</td>\n",
              "    </tr>\n",
              "    <tr>\n",
              "      <th>...</th>\n",
              "      <td>...</td>\n",
              "      <td>...</td>\n",
              "      <td>...</td>\n",
              "      <td>...</td>\n",
              "      <td>...</td>\n",
              "      <td>...</td>\n",
              "    </tr>\n",
              "    <tr>\n",
              "      <th>123</th>\n",
              "      <td>8:47</td>\n",
              "      <td>ear</td>\n",
              "      <td>53</td>\n",
              "      <td>0</td>\n",
              "      <td>no</td>\n",
              "      <td>NaN</td>\n",
              "    </tr>\n",
              "    <tr>\n",
              "      <th>124</th>\n",
              "      <td>9:12</td>\n",
              "      <td>ear</td>\n",
              "      <td>53</td>\n",
              "      <td>0</td>\n",
              "      <td>no</td>\n",
              "      <td>NaN</td>\n",
              "    </tr>\n",
              "    <tr>\n",
              "      <th>125</th>\n",
              "      <td>9:22</td>\n",
              "      <td>ear</td>\n",
              "      <td>53</td>\n",
              "      <td>0</td>\n",
              "      <td>no</td>\n",
              "      <td>NaN</td>\n",
              "    </tr>\n",
              "    <tr>\n",
              "      <th>126</th>\n",
              "      <td>9:36</td>\n",
              "      <td>ear</td>\n",
              "      <td>53</td>\n",
              "      <td>0</td>\n",
              "      <td>no</td>\n",
              "      <td>NaN</td>\n",
              "    </tr>\n",
              "    <tr>\n",
              "      <th>127</th>\n",
              "      <td>9:51</td>\n",
              "      <td>ear</td>\n",
              "      <td>53</td>\n",
              "      <td>0</td>\n",
              "      <td>no</td>\n",
              "      <td>NaN</td>\n",
              "    </tr>\n",
              "  </tbody>\n",
              "</table>\n",
              "<p>128 rows × 6 columns</p>\n",
              "</div>"
            ],
            "text/plain": [
              "    timestamp detector  participant_number  id_result detected  exec_time\n",
              "0        0:17      ear                   1          2       no        NaN\n",
              "1        0:21      ear                   1          2       no        NaN\n",
              "2        0:36      ear                   1          2       no        NaN\n",
              "3        9:15      ear                   1          2       no        NaN\n",
              "4        1:57      mar                   1          2       no        NaN\n",
              "..        ...      ...                 ...        ...      ...        ...\n",
              "123      8:47      ear                  53          0       no        NaN\n",
              "124      9:12      ear                  53          0       no        NaN\n",
              "125      9:22      ear                  53          0       no        NaN\n",
              "126      9:36      ear                  53          0       no        NaN\n",
              "127      9:51      ear                  53          0       no        NaN\n",
              "\n",
              "[128 rows x 6 columns]"
            ]
          },
          "metadata": {
            "tags": []
          },
          "execution_count": 18
        }
      ]
    },
    {
      "cell_type": "code",
      "metadata": {
        "id": "VLgKY3nxOnn8"
      },
      "source": [
        "# add column for detected and exec time ,also id_result for match with id from result\n",
        "label['id_result'] = np.nan\n",
        "label['id_result'] = label['id_result'].astype('Int64')\n",
        "label['detected'] = 'no'\n",
        "label['exec_time'] = np.nan"
      ],
      "execution_count": 5,
      "outputs": []
    },
    {
      "cell_type": "code",
      "metadata": {
        "id": "7p_Hs-VEUgQy"
      },
      "source": [
        "# match participant number from label with id participant from result\n",
        "\n",
        "# # eight object 720\n",
        "# label.loc[label.participant_number==1, 'id_result'] = 2\n",
        "# label.loc[label.participant_number==26, 'id_result'] = 5\n",
        "# label.loc[label.participant_number==31, 'id_result'] = 6\n",
        "# label.loc[label.participant_number==33, 'id_result'] = 7\n",
        "# label.loc[label.participant_number==34, 'id_result'] = 3\n",
        "# label.loc[label.participant_number==41, 'id_result'] = 1\n",
        "# label.loc[label.participant_number==53, 'id_result'] = 0\n",
        "# label.loc[label.participant_number==55, 'id_result'] = 4\n",
        "\n",
        "# # eight object 480\n",
        "# label.loc[label.participant_number==1, 'id_result'] = 1\n",
        "# label.loc[label.participant_number==26, 'id_result'] = 5\n",
        "# label.loc[label.participant_number==31, 'id_result'] = 6\n",
        "# label.loc[label.participant_number==33, 'id_result'] = 7\n",
        "# label.loc[label.participant_number==34, 'id_result'] = 2\n",
        "# label.loc[label.participant_number==41, 'id_result'] = 0\n",
        "# label.loc[label.participant_number==53, 'id_result'] = 3\n",
        "# label.loc[label.participant_number==55, 'id_result'] = 4\n",
        "\n",
        "# # eight object 360\n",
        "# label.loc[label.participant_number==1, 'id_result'] = 1\n",
        "# label.loc[label.participant_number==26, 'id_result'] = 5\n",
        "# label.loc[label.participant_number==31, 'id_result'] = np.nan\n",
        "# label.loc[label.participant_number==33, 'id_result'] = 6\n",
        "# label.loc[label.participant_number==34, 'id_result'] = 3\n",
        "# label.loc[label.participant_number==41, 'id_result'] = 2\n",
        "# label.loc[label.participant_number==53, 'id_result'] = 0\n",
        "# label.loc[label.participant_number==55, 'id_result'] = 4\n",
        "\n",
        "# # eight object 240 (must be manual, there's switched id)\n",
        "\n",
        "# # six object 720\n",
        "# label.loc[label.participant_number==1, 'id_result'] = 1\n",
        "# label.loc[label.participant_number==26, 'id_result'] = 4\n",
        "# label.loc[label.participant_number==31, 'id_result'] = 3\n",
        "# label.loc[label.participant_number==33, 'id_result'] = 5\n",
        "# label.loc[label.participant_number==34, 'id_result'] = 2\n",
        "# label.loc[label.participant_number==41, 'id_result'] = 0\n",
        "\n",
        "# # six object 480\n",
        "# label.loc[label.participant_number==1, 'id_result'] = 1\n",
        "# label.loc[label.participant_number==26, 'id_result'] = 3\n",
        "# label.loc[label.participant_number==31, 'id_result'] = 4\n",
        "# label.loc[label.participant_number==33, 'id_result'] = 5\n",
        "# label.loc[label.participant_number==34, 'id_result'] = 2\n",
        "# label.loc[label.participant_number==41, 'id_result'] = 0\n",
        "\n",
        "# # six object 360\n",
        "# label.loc[label.participant_number==1, 'id_result'] = 1\n",
        "# label.loc[label.participant_number==26, 'id_result'] = 3\n",
        "# label.loc[label.participant_number==31, 'id_result'] = np.nan\n",
        "# label.loc[label.participant_number==33, 'id_result'] = 4\n",
        "# label.loc[label.participant_number==34, 'id_result'] = 2\n",
        "# label.loc[label.participant_number==41, 'id_result'] = 0\n",
        "\n",
        "# # six object 240\n",
        "# label.loc[label.participant_number==1, 'id_result'] = 2\n",
        "# label.loc[label.participant_number==26, 'id_result'] = np.nan\n",
        "# label.loc[label.participant_number==31, 'id_result'] = np.nan\n",
        "# label.loc[label.participant_number==33, 'id_result'] = 1\n",
        "# label.loc[label.participant_number==34, 'id_result'] = np.nan\n",
        "# label.loc[label.participant_number==41, 'id_result'] = 0\n",
        "\n",
        "# # four object 720\n",
        "# label.loc[label.participant_number==1, 'id_result'] = 0\n",
        "# label.loc[label.participant_number==26, 'id_result'] = 1\n",
        "# label.loc[label.participant_number==31, 'id_result'] = 2\n",
        "# label.loc[label.participant_number==33, 'id_result'] = 3\n",
        "\n",
        "# # four object 480\n",
        "# label.loc[label.participant_number==1, 'id_result'] = 0\n",
        "# label.loc[label.participant_number==26, 'id_result'] = 1\n",
        "# label.loc[label.participant_number==31, 'id_result'] = 2\n",
        "# label.loc[label.participant_number==33, 'id_result'] = 3\n",
        "\n",
        "# # four object 360\n",
        "# label.loc[label.participant_number==1, 'id_result'] = 0\n",
        "# label.loc[label.participant_number==26, 'id_result'] = 1\n",
        "# label.loc[label.participant_number==31, 'id_result'] = np.nan\n",
        "# label.loc[label.participant_number==33, 'id_result'] = 2\n",
        "\n",
        "# # four object 240\n",
        "# label.loc[label.participant_number==1, 'id_result'] = 1\n",
        "# label.loc[label.participant_number==26, 'id_result'] = np.nan\n",
        "# label.loc[label.participant_number==31, 'id_result'] = np.nan\n",
        "# label.loc[label.participant_number==33, 'id_result'] = 0\n",
        "\n",
        "# # two object 720\n",
        "# label.loc[label.participant_number==1, 'id_result'] = 0\n",
        "# label.loc[label.participant_number==26, 'id_result'] = 1\n",
        "\n",
        "# # two object 480\n",
        "# label.loc[label.participant_number==1, 'id_result'] = 0\n",
        "# label.loc[label.participant_number==26, 'id_result'] = 1\n",
        "\n",
        "# # two object 360\n",
        "# label.loc[label.participant_number==1, 'id_result'] = 0\n",
        "# label.loc[label.participant_number==26, 'id_result'] = 1\n",
        "\n",
        "# # two object 240\n",
        "# label.loc[label.participant_number==1, 'id_result'] = 0\n",
        "# label.loc[label.participant_number==26, 'id_result'] = 1\n"
      ],
      "execution_count": 6,
      "outputs": []
    },
    {
      "cell_type": "code",
      "metadata": {
        "colab": {
          "base_uri": "https://localhost:8080/",
          "height": 206
        },
        "id": "tnSwu4I51TMl",
        "outputId": "639bf706-eafa-4289-d15c-155682eab02f"
      },
      "source": [
        "data.head()"
      ],
      "execution_count": 7,
      "outputs": [
        {
          "output_type": "execute_result",
          "data": {
            "text/html": [
              "<div>\n",
              "<style scoped>\n",
              "    .dataframe tbody tr th:only-of-type {\n",
              "        vertical-align: middle;\n",
              "    }\n",
              "\n",
              "    .dataframe tbody tr th {\n",
              "        vertical-align: top;\n",
              "    }\n",
              "\n",
              "    .dataframe thead th {\n",
              "        text-align: right;\n",
              "    }\n",
              "</style>\n",
              "<table border=\"1\" class=\"dataframe\">\n",
              "  <thead>\n",
              "    <tr style=\"text-align: right;\">\n",
              "      <th></th>\n",
              "      <th>Unnamed: 0</th>\n",
              "      <th>timestamp</th>\n",
              "      <th>id</th>\n",
              "      <th>detector</th>\n",
              "      <th>time</th>\n",
              "    </tr>\n",
              "  </thead>\n",
              "  <tbody>\n",
              "    <tr>\n",
              "      <th>0</th>\n",
              "      <td>0</td>\n",
              "      <td>0:3</td>\n",
              "      <td>4</td>\n",
              "      <td>ear</td>\n",
              "      <td>[0.1239118, 0.1201774, 0.1416577, 0.121634, 0....</td>\n",
              "    </tr>\n",
              "    <tr>\n",
              "      <th>1</th>\n",
              "      <td>1</td>\n",
              "      <td>0:4</td>\n",
              "      <td>6</td>\n",
              "      <td>ear</td>\n",
              "      <td>[0.1154941, 0.1160714, 0.115346, 0.1164171, 0....</td>\n",
              "    </tr>\n",
              "    <tr>\n",
              "      <th>2</th>\n",
              "      <td>2</td>\n",
              "      <td>0:5</td>\n",
              "      <td>6</td>\n",
              "      <td>ear</td>\n",
              "      <td>[0.115346, 0.1164171, 0.1189089, 0.1240119, 0....</td>\n",
              "    </tr>\n",
              "    <tr>\n",
              "      <th>3</th>\n",
              "      <td>3</td>\n",
              "      <td>0:5</td>\n",
              "      <td>6</td>\n",
              "      <td>ear</td>\n",
              "      <td>[0.1189089, 0.1240119, 0.1274226, 0.1176443, 0...</td>\n",
              "    </tr>\n",
              "    <tr>\n",
              "      <th>4</th>\n",
              "      <td>4</td>\n",
              "      <td>0:5</td>\n",
              "      <td>6</td>\n",
              "      <td>ear</td>\n",
              "      <td>[0.1274226, 0.1176443, 0.1173387, 0.11833, 0.1...</td>\n",
              "    </tr>\n",
              "  </tbody>\n",
              "</table>\n",
              "</div>"
            ],
            "text/plain": [
              "   Unnamed: 0  ...                                               time\n",
              "0           0  ...  [0.1239118, 0.1201774, 0.1416577, 0.121634, 0....\n",
              "1           1  ...  [0.1154941, 0.1160714, 0.115346, 0.1164171, 0....\n",
              "2           2  ...  [0.115346, 0.1164171, 0.1189089, 0.1240119, 0....\n",
              "3           3  ...  [0.1189089, 0.1240119, 0.1274226, 0.1176443, 0...\n",
              "4           4  ...  [0.1274226, 0.1176443, 0.1173387, 0.11833, 0.1...\n",
              "\n",
              "[5 rows x 5 columns]"
            ]
          },
          "metadata": {
            "tags": []
          },
          "execution_count": 7
        }
      ]
    },
    {
      "cell_type": "code",
      "metadata": {
        "colab": {
          "base_uri": "https://localhost:8080/",
          "height": 206
        },
        "id": "2gfxJAP9OzlX",
        "outputId": "291d1b10-b231-4ed3-997d-87ac9b984b55"
      },
      "source": [
        "label.head()"
      ],
      "execution_count": 8,
      "outputs": [
        {
          "output_type": "execute_result",
          "data": {
            "text/html": [
              "<div>\n",
              "<style scoped>\n",
              "    .dataframe tbody tr th:only-of-type {\n",
              "        vertical-align: middle;\n",
              "    }\n",
              "\n",
              "    .dataframe tbody tr th {\n",
              "        vertical-align: top;\n",
              "    }\n",
              "\n",
              "    .dataframe thead th {\n",
              "        text-align: right;\n",
              "    }\n",
              "</style>\n",
              "<table border=\"1\" class=\"dataframe\">\n",
              "  <thead>\n",
              "    <tr style=\"text-align: right;\">\n",
              "      <th></th>\n",
              "      <th>timestamp</th>\n",
              "      <th>detector</th>\n",
              "      <th>participant_number</th>\n",
              "      <th>id_result</th>\n",
              "      <th>detected</th>\n",
              "      <th>exec_time</th>\n",
              "    </tr>\n",
              "  </thead>\n",
              "  <tbody>\n",
              "    <tr>\n",
              "      <th>0</th>\n",
              "      <td>0:17</td>\n",
              "      <td>ear</td>\n",
              "      <td>1</td>\n",
              "      <td>2</td>\n",
              "      <td>no</td>\n",
              "      <td>NaN</td>\n",
              "    </tr>\n",
              "    <tr>\n",
              "      <th>1</th>\n",
              "      <td>0:21</td>\n",
              "      <td>ear</td>\n",
              "      <td>1</td>\n",
              "      <td>2</td>\n",
              "      <td>no</td>\n",
              "      <td>NaN</td>\n",
              "    </tr>\n",
              "    <tr>\n",
              "      <th>2</th>\n",
              "      <td>0:36</td>\n",
              "      <td>ear</td>\n",
              "      <td>1</td>\n",
              "      <td>2</td>\n",
              "      <td>no</td>\n",
              "      <td>NaN</td>\n",
              "    </tr>\n",
              "    <tr>\n",
              "      <th>3</th>\n",
              "      <td>9:15</td>\n",
              "      <td>ear</td>\n",
              "      <td>1</td>\n",
              "      <td>2</td>\n",
              "      <td>no</td>\n",
              "      <td>NaN</td>\n",
              "    </tr>\n",
              "    <tr>\n",
              "      <th>4</th>\n",
              "      <td>1:57</td>\n",
              "      <td>mar</td>\n",
              "      <td>1</td>\n",
              "      <td>2</td>\n",
              "      <td>no</td>\n",
              "      <td>NaN</td>\n",
              "    </tr>\n",
              "  </tbody>\n",
              "</table>\n",
              "</div>"
            ],
            "text/plain": [
              "  timestamp detector  participant_number  id_result detected  exec_time\n",
              "0      0:17      ear                   1          2       no        NaN\n",
              "1      0:21      ear                   1          2       no        NaN\n",
              "2      0:36      ear                   1          2       no        NaN\n",
              "3      9:15      ear                   1          2       no        NaN\n",
              "4      1:57      mar                   1          2       no        NaN"
            ]
          },
          "metadata": {
            "tags": []
          },
          "execution_count": 8
        }
      ]
    },
    {
      "cell_type": "code",
      "metadata": {
        "id": "ejpRzbtsSSpD"
      },
      "source": [
        "# # right at the label time\n",
        "# for data_row in data.itertuples():\n",
        "#   for label_row in label.itertuples():\n",
        "#     if label_row.timestamp == data_row.timestamp:\n",
        "#       if label_row.id_result == data_row.id:\n",
        "#         if label_row.detector == data_row.detector:\n",
        "#           label.loc[label.index == label_row.Index, 'detected'] = 'yes'\n",
        "#           label.loc[label.index == label_row.Index, 'exec_time'] = data.loc[data.index == data_row.Index, 'time' ].item()\n",
        "\n",
        "# # right at the label time and label time + 1 sec\n",
        "# for data_row in data.itertuples():\n",
        "#   for label_row in label.itertuples():\n",
        "#     if (label_row.timestamp == data_row.timestamp and \n",
        "#     label_row.id_result == data_row.id and\n",
        "#     label_row.detector == data_row.detector):\n",
        "#       if label.loc[label.index==label_row.Index, 'detected'].item() == 'yes':\n",
        "#         continue\n",
        "#       else:\n",
        "#         label.loc[label.index == label_row.Index, 'detected'] = 'yes'\n",
        "#         label.loc[label.index == label_row.Index, 'exec_time'] = data.loc[data.index == data_row.Index, 'time' ].item()\n",
        "#     else:\n",
        "#       ts = data.loc[data.index == data_row.Index, 'timestamp'].item()\n",
        "#       ts = ts.split(':')\n",
        "#       ts = list(map(int, ts))\n",
        "#       if ts[1] == 59:\n",
        "#         # menit\n",
        "#         ts[0] += 1\n",
        "#         # detik\n",
        "#         ts[1] = 0\n",
        "#       else:\n",
        "#         # detik\n",
        "#         ts[1] += 1\n",
        "#       ts = str(ts[0]) + ':' + str(ts[1])\n",
        "\n",
        "#       if (label_row.timestamp == ts and \n",
        "#       label_row.id_result == data_row.id and\n",
        "#       label_row.detector == data_row.detector):\n",
        "#         if label.loc[label.index==label_row.Index, 'detected'].item() == 'yes':\n",
        "#           continue\n",
        "#         else:\n",
        "#           label.loc[label.index == label_row.Index, 'detected'] = 'yes'\n",
        "#           label.loc[label.index == label_row.Index, 'exec_time'] = data.loc[data.index == data_row.Index, 'time' ].item()"
      ],
      "execution_count": 9,
      "outputs": []
    },
    {
      "cell_type": "code",
      "metadata": {
        "colab": {
          "base_uri": "https://localhost:8080/"
        },
        "id": "7J0le_zYf539",
        "outputId": "14df5322-cd98-40a5-f93a-4a4e10d6a177"
      },
      "source": [
        "label['detected'].value_counts()"
      ],
      "execution_count": 10,
      "outputs": [
        {
          "output_type": "execute_result",
          "data": {
            "text/plain": [
              "no    163\n",
              "Name: detected, dtype: int64"
            ]
          },
          "metadata": {
            "tags": []
          },
          "execution_count": 10
        }
      ]
    },
    {
      "cell_type": "code",
      "metadata": {
        "colab": {
          "base_uri": "https://localhost:8080/",
          "height": 424
        },
        "id": "kbMWReZ-2OIV",
        "outputId": "9273a8bf-ca7e-4e99-f6ba-81450e39b430"
      },
      "source": [
        "label.head(100)"
      ],
      "execution_count": 11,
      "outputs": [
        {
          "output_type": "execute_result",
          "data": {
            "text/html": [
              "<div>\n",
              "<style scoped>\n",
              "    .dataframe tbody tr th:only-of-type {\n",
              "        vertical-align: middle;\n",
              "    }\n",
              "\n",
              "    .dataframe tbody tr th {\n",
              "        vertical-align: top;\n",
              "    }\n",
              "\n",
              "    .dataframe thead th {\n",
              "        text-align: right;\n",
              "    }\n",
              "</style>\n",
              "<table border=\"1\" class=\"dataframe\">\n",
              "  <thead>\n",
              "    <tr style=\"text-align: right;\">\n",
              "      <th></th>\n",
              "      <th>timestamp</th>\n",
              "      <th>detector</th>\n",
              "      <th>participant_number</th>\n",
              "      <th>id_result</th>\n",
              "      <th>detected</th>\n",
              "      <th>exec_time</th>\n",
              "    </tr>\n",
              "  </thead>\n",
              "  <tbody>\n",
              "    <tr>\n",
              "      <th>0</th>\n",
              "      <td>0:17</td>\n",
              "      <td>ear</td>\n",
              "      <td>1</td>\n",
              "      <td>2</td>\n",
              "      <td>no</td>\n",
              "      <td>NaN</td>\n",
              "    </tr>\n",
              "    <tr>\n",
              "      <th>1</th>\n",
              "      <td>0:21</td>\n",
              "      <td>ear</td>\n",
              "      <td>1</td>\n",
              "      <td>2</td>\n",
              "      <td>no</td>\n",
              "      <td>NaN</td>\n",
              "    </tr>\n",
              "    <tr>\n",
              "      <th>2</th>\n",
              "      <td>0:36</td>\n",
              "      <td>ear</td>\n",
              "      <td>1</td>\n",
              "      <td>2</td>\n",
              "      <td>no</td>\n",
              "      <td>NaN</td>\n",
              "    </tr>\n",
              "    <tr>\n",
              "      <th>3</th>\n",
              "      <td>9:15</td>\n",
              "      <td>ear</td>\n",
              "      <td>1</td>\n",
              "      <td>2</td>\n",
              "      <td>no</td>\n",
              "      <td>NaN</td>\n",
              "    </tr>\n",
              "    <tr>\n",
              "      <th>4</th>\n",
              "      <td>1:57</td>\n",
              "      <td>mar</td>\n",
              "      <td>1</td>\n",
              "      <td>2</td>\n",
              "      <td>no</td>\n",
              "      <td>NaN</td>\n",
              "    </tr>\n",
              "    <tr>\n",
              "      <th>...</th>\n",
              "      <td>...</td>\n",
              "      <td>...</td>\n",
              "      <td>...</td>\n",
              "      <td>...</td>\n",
              "      <td>...</td>\n",
              "      <td>...</td>\n",
              "    </tr>\n",
              "    <tr>\n",
              "      <th>95</th>\n",
              "      <td>9:54</td>\n",
              "      <td>ear</td>\n",
              "      <td>33</td>\n",
              "      <td>7</td>\n",
              "      <td>no</td>\n",
              "      <td>NaN</td>\n",
              "    </tr>\n",
              "    <tr>\n",
              "      <th>96</th>\n",
              "      <td>3:41</td>\n",
              "      <td>mar</td>\n",
              "      <td>33</td>\n",
              "      <td>7</td>\n",
              "      <td>no</td>\n",
              "      <td>NaN</td>\n",
              "    </tr>\n",
              "    <tr>\n",
              "      <th>97</th>\n",
              "      <td>3:58</td>\n",
              "      <td>mar</td>\n",
              "      <td>33</td>\n",
              "      <td>7</td>\n",
              "      <td>no</td>\n",
              "      <td>NaN</td>\n",
              "    </tr>\n",
              "    <tr>\n",
              "      <th>98</th>\n",
              "      <td>1:27</td>\n",
              "      <td>ear</td>\n",
              "      <td>34</td>\n",
              "      <td>3</td>\n",
              "      <td>no</td>\n",
              "      <td>NaN</td>\n",
              "    </tr>\n",
              "    <tr>\n",
              "      <th>99</th>\n",
              "      <td>1:34</td>\n",
              "      <td>ear</td>\n",
              "      <td>34</td>\n",
              "      <td>3</td>\n",
              "      <td>no</td>\n",
              "      <td>NaN</td>\n",
              "    </tr>\n",
              "  </tbody>\n",
              "</table>\n",
              "<p>100 rows × 6 columns</p>\n",
              "</div>"
            ],
            "text/plain": [
              "   timestamp detector  participant_number  id_result detected  exec_time\n",
              "0       0:17      ear                   1          2       no        NaN\n",
              "1       0:21      ear                   1          2       no        NaN\n",
              "2       0:36      ear                   1          2       no        NaN\n",
              "3       9:15      ear                   1          2       no        NaN\n",
              "4       1:57      mar                   1          2       no        NaN\n",
              "..       ...      ...                 ...        ...      ...        ...\n",
              "95      9:54      ear                  33          7       no        NaN\n",
              "96      3:41      mar                  33          7       no        NaN\n",
              "97      3:58      mar                  33          7       no        NaN\n",
              "98      1:27      ear                  34          3       no        NaN\n",
              "99      1:34      ear                  34          3       no        NaN\n",
              "\n",
              "[100 rows x 6 columns]"
            ]
          },
          "metadata": {
            "tags": []
          },
          "execution_count": 11
        }
      ]
    },
    {
      "cell_type": "code",
      "metadata": {
        "id": "zXYHx8rMrOo0"
      },
      "source": [
        "label.to_csv('eight_720.csv')"
      ],
      "execution_count": 12,
      "outputs": []
    },
    {
      "cell_type": "code",
      "metadata": {
        "id": "AzXHMbOmKzLH"
      },
      "source": [
        "# label.loc[label.index==0, 'exec_time'] = data.loc[data.index==0, 'time'].values\n",
        "\n",
        "# for row in ear_id2.itertuples():\n",
        "#   print(row.time)\n",
        "\n",
        "# label.loc[label.index==3, 'detector']"
      ],
      "execution_count": 13,
      "outputs": []
    }
  ]
}