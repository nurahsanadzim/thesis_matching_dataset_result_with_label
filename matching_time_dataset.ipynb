{
  "nbformat": 4,
  "nbformat_minor": 0,
  "metadata": {
    "colab": {
      "name": "matching_time_dataset.ipynb",
      "provenance": [],
      "collapsed_sections": [],
      "authorship_tag": "ABX9TyNjK1j770giO4a+ydcoNdas",
      "include_colab_link": true
    },
    "kernelspec": {
      "display_name": "Python 3",
      "name": "python3"
    },
    "language_info": {
      "name": "python"
    }
  },
  "cells": [
    {
      "cell_type": "markdown",
      "metadata": {
        "id": "view-in-github",
        "colab_type": "text"
      },
      "source": [
        "<a href=\"https://colab.research.google.com/github/nurahsanadzim/thesis_matching_dataset_result_with_label/blob/main/matching_time_dataset.ipynb\" target=\"_parent\"><img src=\"https://colab.research.google.com/assets/colab-badge.svg\" alt=\"Open In Colab\"/></a>"
      ]
    },
    {
      "cell_type": "markdown",
      "metadata": {
        "id": "VNB_I7POBqS3"
      },
      "source": [
        "NAIVE method"
      ]
    },
    {
      "cell_type": "code",
      "metadata": {
        "colab": {
          "base_uri": "https://localhost:8080/"
        },
        "id": "bo7bDE63xTI0",
        "outputId": "57e6fe53-5610-404c-fceb-1374ecff2723"
      },
      "source": [
        "import numpy as np\n",
        "import pandas as pd\n",
        "from google.colab import drive\n",
        "drive.mount('/content/gdrive')"
      ],
      "execution_count": 1,
      "outputs": [
        {
          "output_type": "stream",
          "text": [
            "Drive already mounted at /content/gdrive; to attempt to forcibly remount, call drive.mount(\"/content/gdrive\", force_remount=True).\n"
          ],
          "name": "stdout"
        }
      ]
    },
    {
      "cell_type": "code",
      "metadata": {
        "colab": {
          "base_uri": "https://localhost:8080/"
        },
        "id": "rJS02dFB0jaR",
        "outputId": "39ab9150-20a9-484f-ad4f-edaeb903091b"
      },
      "source": [
        "!ls '/content/gdrive/MyDrive/thesis_result/dataset_result/'"
      ],
      "execution_count": 2,
      "outputs": [
        {
          "output_type": "stream",
          "text": [
            "eight_240.csv  four_240.csv  matched\t  six_720.csv  two_720.csv\n",
            "eight_360.csv  four_360.csv  six_240.csv  two_240.csv\n",
            "eight_480.csv  four_480.csv  six_360.csv  two_360.csv\n",
            "eight_720.csv  four_720.csv  six_480.csv  two_480.csv\n"
          ],
          "name": "stdout"
        }
      ]
    },
    {
      "cell_type": "code",
      "metadata": {
        "id": "vbRDFDzb06ad"
      },
      "source": [
        "import pandas as pd\n",
        "data = pd.read_csv('/content/gdrive/MyDrive/thesis_result/dataset_result/eight_720.csv')"
      ],
      "execution_count": 3,
      "outputs": []
    },
    {
      "cell_type": "code",
      "metadata": {
        "id": "2W1vmZPYGSXn"
      },
      "source": [
        "label = pd.read_csv('/content/gdrive/MyDrive/thesis_result/label_dataset.csv')"
      ],
      "execution_count": 4,
      "outputs": []
    },
    {
      "cell_type": "code",
      "metadata": {
        "id": "VmGmrUKt9yJX"
      },
      "source": [
        "# six object\n",
        "# participant = [1, 26, 31, 33, 34, 41]\n",
        "# four object\n",
        "# participant = [1, 26, 31, 33]\n",
        "# two object\n",
        "# participant = [1, 26]"
      ],
      "execution_count": 5,
      "outputs": []
    },
    {
      "cell_type": "code",
      "metadata": {
        "id": "OpMi4-3J8mef"
      },
      "source": [
        "# label = label.loc[label.participant_number.isin(participant)]"
      ],
      "execution_count": 6,
      "outputs": []
    },
    {
      "cell_type": "code",
      "metadata": {
        "id": "VLgKY3nxOnn8"
      },
      "source": [
        "# add column for detected and exec time ,also id_result for match with id from result\n",
        "label['id_result'] = np.nan\n",
        "label['id_result'] = label['id_result'].astype('Int64')\n",
        "label['detected'] = 'no'\n",
        "label['exec_time'] = np.nan"
      ],
      "execution_count": 7,
      "outputs": []
    },
    {
      "cell_type": "code",
      "metadata": {
        "id": "7p_Hs-VEUgQy"
      },
      "source": [
        "# match participant number from label with id participant from result\n",
        "\n",
        "# eight object 720\n",
        "label.loc[label.participant_number==1, 'id_result'] = 2\n",
        "label.loc[label.participant_number==26, 'id_result'] = 5\n",
        "label.loc[label.participant_number==31, 'id_result'] = 6\n",
        "label.loc[label.participant_number==33, 'id_result'] = 7\n",
        "label.loc[label.participant_number==34, 'id_result'] = 3\n",
        "label.loc[label.participant_number==41, 'id_result'] = 1\n",
        "label.loc[label.participant_number==53, 'id_result'] = 0\n",
        "label.loc[label.participant_number==55, 'id_result'] = 4\n",
        "\n",
        "# # eight object 480\n",
        "# label.loc[label.participant_number==1, 'id_result'] = 1\n",
        "# label.loc[label.participant_number==26, 'id_result'] = 5\n",
        "# label.loc[label.participant_number==31, 'id_result'] = 6\n",
        "# label.loc[label.participant_number==33, 'id_result'] = 7\n",
        "# label.loc[label.participant_number==34, 'id_result'] = 2\n",
        "# label.loc[label.participant_number==41, 'id_result'] = 0\n",
        "# label.loc[label.participant_number==53, 'id_result'] = 3\n",
        "# label.loc[label.participant_number==55, 'id_result'] = 4\n",
        "\n",
        "# # eight object 360\n",
        "# label.loc[label.participant_number==1, 'id_result'] = 1\n",
        "# label.loc[label.participant_number==26, 'id_result'] = 5\n",
        "# label.loc[label.participant_number==31, 'id_result'] = np.nan\n",
        "# label.loc[label.participant_number==33, 'id_result'] = 6\n",
        "# label.loc[label.participant_number==34, 'id_result'] = 3\n",
        "# label.loc[label.participant_number==41, 'id_result'] = 2\n",
        "# label.loc[label.participant_number==53, 'id_result'] = 0\n",
        "# label.loc[label.participant_number==55, 'id_result'] = 4\n",
        "\n",
        "# # eight object 240 (must be manual, there's switched id)\n",
        "\n",
        "# # six object 720\n",
        "# label.loc[label.participant_number==1, 'id_result'] = 1\n",
        "# label.loc[label.participant_number==26, 'id_result'] = 4\n",
        "# label.loc[label.participant_number==31, 'id_result'] = 3\n",
        "# label.loc[label.participant_number==33, 'id_result'] = 5\n",
        "# label.loc[label.participant_number==34, 'id_result'] = 2\n",
        "# label.loc[label.participant_number==41, 'id_result'] = 0\n",
        "\n",
        "# # six object 480\n",
        "# label.loc[label.participant_number==1, 'id_result'] = 1\n",
        "# label.loc[label.participant_number==26, 'id_result'] = 3\n",
        "# label.loc[label.participant_number==31, 'id_result'] = 4\n",
        "# label.loc[label.participant_number==33, 'id_result'] = 5\n",
        "# label.loc[label.participant_number==34, 'id_result'] = 2\n",
        "# label.loc[label.participant_number==41, 'id_result'] = 0\n",
        "\n",
        "# # six object 360\n",
        "# label.loc[label.participant_number==1, 'id_result'] = 1\n",
        "# label.loc[label.participant_number==26, 'id_result'] = 3\n",
        "# label.loc[label.participant_number==31, 'id_result'] = np.nan\n",
        "# label.loc[label.participant_number==33, 'id_result'] = 4\n",
        "# label.loc[label.participant_number==34, 'id_result'] = 2\n",
        "# label.loc[label.participant_number==41, 'id_result'] = 0\n",
        "\n",
        "# # six object 240\n",
        "# label.loc[label.participant_number==1, 'id_result'] = 2\n",
        "# label.loc[label.participant_number==26, 'id_result'] = np.nan\n",
        "# label.loc[label.participant_number==31, 'id_result'] = np.nan\n",
        "# label.loc[label.participant_number==33, 'id_result'] = 1\n",
        "# label.loc[label.participant_number==34, 'id_result'] = np.nan\n",
        "# label.loc[label.participant_number==41, 'id_result'] = 0\n",
        "\n",
        "# # four object 720\n",
        "# label.loc[label.participant_number==1, 'id_result'] = 0\n",
        "# label.loc[label.participant_number==26, 'id_result'] = 1\n",
        "# label.loc[label.participant_number==31, 'id_result'] = 2\n",
        "# label.loc[label.participant_number==33, 'id_result'] = 3\n",
        "\n",
        "# # four object 480\n",
        "# label.loc[label.participant_number==1, 'id_result'] = 0\n",
        "# label.loc[label.participant_number==26, 'id_result'] = 1\n",
        "# label.loc[label.participant_number==31, 'id_result'] = 2\n",
        "# label.loc[label.participant_number==33, 'id_result'] = 3\n",
        "\n",
        "# # four object 360\n",
        "# label.loc[label.participant_number==1, 'id_result'] = 0\n",
        "# label.loc[label.participant_number==26, 'id_result'] = 1\n",
        "# label.loc[label.participant_number==31, 'id_result'] = np.nan\n",
        "# label.loc[label.participant_number==33, 'id_result'] = 2\n",
        "\n",
        "# # four object 240\n",
        "# label.loc[label.participant_number==1, 'id_result'] = 1\n",
        "# label.loc[label.participant_number==26, 'id_result'] = np.nan\n",
        "# label.loc[label.participant_number==31, 'id_result'] = np.nan\n",
        "# label.loc[label.participant_number==33, 'id_result'] = 0\n",
        "\n",
        "# # two object 720\n",
        "# label.loc[label.participant_number==1, 'id_result'] = 0\n",
        "# label.loc[label.participant_number==26, 'id_result'] = 1\n",
        "\n",
        "# # two object 480\n",
        "# label.loc[label.participant_number==1, 'id_result'] = 0\n",
        "# label.loc[label.participant_number==26, 'id_result'] = 1\n",
        "\n",
        "# # two object 360\n",
        "# label.loc[label.participant_number==1, 'id_result'] = 0\n",
        "# label.loc[label.participant_number==26, 'id_result'] = 1\n",
        "\n",
        "# # two object 240\n",
        "# label.loc[label.participant_number==1, 'id_result'] = 0\n",
        "# label.loc[label.participant_number==26, 'id_result'] = 1\n"
      ],
      "execution_count": 8,
      "outputs": []
    },
    {
      "cell_type": "code",
      "metadata": {
        "colab": {
          "base_uri": "https://localhost:8080/",
          "height": 206
        },
        "id": "tnSwu4I51TMl",
        "outputId": "1af4a50d-1f30-480b-d093-843bed2b966b"
      },
      "source": [
        "data.head()"
      ],
      "execution_count": 9,
      "outputs": [
        {
          "output_type": "execute_result",
          "data": {
            "text/html": [
              "<div>\n",
              "<style scoped>\n",
              "    .dataframe tbody tr th:only-of-type {\n",
              "        vertical-align: middle;\n",
              "    }\n",
              "\n",
              "    .dataframe tbody tr th {\n",
              "        vertical-align: top;\n",
              "    }\n",
              "\n",
              "    .dataframe thead th {\n",
              "        text-align: right;\n",
              "    }\n",
              "</style>\n",
              "<table border=\"1\" class=\"dataframe\">\n",
              "  <thead>\n",
              "    <tr style=\"text-align: right;\">\n",
              "      <th></th>\n",
              "      <th>Unnamed: 0</th>\n",
              "      <th>timestamp</th>\n",
              "      <th>id</th>\n",
              "      <th>detector</th>\n",
              "      <th>time</th>\n",
              "    </tr>\n",
              "  </thead>\n",
              "  <tbody>\n",
              "    <tr>\n",
              "      <th>0</th>\n",
              "      <td>0</td>\n",
              "      <td>0:3</td>\n",
              "      <td>4</td>\n",
              "      <td>ear</td>\n",
              "      <td>[0.1239118, 0.1201774, 0.1416577, 0.121634, 0....</td>\n",
              "    </tr>\n",
              "    <tr>\n",
              "      <th>1</th>\n",
              "      <td>1</td>\n",
              "      <td>0:4</td>\n",
              "      <td>6</td>\n",
              "      <td>ear</td>\n",
              "      <td>[0.1154941, 0.1160714, 0.115346, 0.1164171, 0....</td>\n",
              "    </tr>\n",
              "    <tr>\n",
              "      <th>2</th>\n",
              "      <td>2</td>\n",
              "      <td>0:5</td>\n",
              "      <td>6</td>\n",
              "      <td>ear</td>\n",
              "      <td>[0.115346, 0.1164171, 0.1189089, 0.1240119, 0....</td>\n",
              "    </tr>\n",
              "    <tr>\n",
              "      <th>3</th>\n",
              "      <td>3</td>\n",
              "      <td>0:5</td>\n",
              "      <td>6</td>\n",
              "      <td>ear</td>\n",
              "      <td>[0.1189089, 0.1240119, 0.1274226, 0.1176443, 0...</td>\n",
              "    </tr>\n",
              "    <tr>\n",
              "      <th>4</th>\n",
              "      <td>4</td>\n",
              "      <td>0:5</td>\n",
              "      <td>6</td>\n",
              "      <td>ear</td>\n",
              "      <td>[0.1274226, 0.1176443, 0.1173387, 0.11833, 0.1...</td>\n",
              "    </tr>\n",
              "  </tbody>\n",
              "</table>\n",
              "</div>"
            ],
            "text/plain": [
              "   Unnamed: 0  ...                                               time\n",
              "0           0  ...  [0.1239118, 0.1201774, 0.1416577, 0.121634, 0....\n",
              "1           1  ...  [0.1154941, 0.1160714, 0.115346, 0.1164171, 0....\n",
              "2           2  ...  [0.115346, 0.1164171, 0.1189089, 0.1240119, 0....\n",
              "3           3  ...  [0.1189089, 0.1240119, 0.1274226, 0.1176443, 0...\n",
              "4           4  ...  [0.1274226, 0.1176443, 0.1173387, 0.11833, 0.1...\n",
              "\n",
              "[5 rows x 5 columns]"
            ]
          },
          "metadata": {
            "tags": []
          },
          "execution_count": 9
        }
      ]
    },
    {
      "cell_type": "code",
      "metadata": {
        "colab": {
          "base_uri": "https://localhost:8080/",
          "height": 206
        },
        "id": "2gfxJAP9OzlX",
        "outputId": "233d83f6-18e9-48a0-98e6-311619a8d8bc"
      },
      "source": [
        "label.head()"
      ],
      "execution_count": 10,
      "outputs": [
        {
          "output_type": "execute_result",
          "data": {
            "text/html": [
              "<div>\n",
              "<style scoped>\n",
              "    .dataframe tbody tr th:only-of-type {\n",
              "        vertical-align: middle;\n",
              "    }\n",
              "\n",
              "    .dataframe tbody tr th {\n",
              "        vertical-align: top;\n",
              "    }\n",
              "\n",
              "    .dataframe thead th {\n",
              "        text-align: right;\n",
              "    }\n",
              "</style>\n",
              "<table border=\"1\" class=\"dataframe\">\n",
              "  <thead>\n",
              "    <tr style=\"text-align: right;\">\n",
              "      <th></th>\n",
              "      <th>timestamp</th>\n",
              "      <th>detector</th>\n",
              "      <th>participant_number</th>\n",
              "      <th>id_result</th>\n",
              "      <th>detected</th>\n",
              "      <th>exec_time</th>\n",
              "    </tr>\n",
              "  </thead>\n",
              "  <tbody>\n",
              "    <tr>\n",
              "      <th>0</th>\n",
              "      <td>0:17</td>\n",
              "      <td>ear</td>\n",
              "      <td>1</td>\n",
              "      <td>2</td>\n",
              "      <td>no</td>\n",
              "      <td>NaN</td>\n",
              "    </tr>\n",
              "    <tr>\n",
              "      <th>1</th>\n",
              "      <td>0:21</td>\n",
              "      <td>ear</td>\n",
              "      <td>1</td>\n",
              "      <td>2</td>\n",
              "      <td>no</td>\n",
              "      <td>NaN</td>\n",
              "    </tr>\n",
              "    <tr>\n",
              "      <th>2</th>\n",
              "      <td>0:36</td>\n",
              "      <td>ear</td>\n",
              "      <td>1</td>\n",
              "      <td>2</td>\n",
              "      <td>no</td>\n",
              "      <td>NaN</td>\n",
              "    </tr>\n",
              "    <tr>\n",
              "      <th>3</th>\n",
              "      <td>9:15</td>\n",
              "      <td>ear</td>\n",
              "      <td>1</td>\n",
              "      <td>2</td>\n",
              "      <td>no</td>\n",
              "      <td>NaN</td>\n",
              "    </tr>\n",
              "    <tr>\n",
              "      <th>4</th>\n",
              "      <td>1:57</td>\n",
              "      <td>mar</td>\n",
              "      <td>1</td>\n",
              "      <td>2</td>\n",
              "      <td>no</td>\n",
              "      <td>NaN</td>\n",
              "    </tr>\n",
              "  </tbody>\n",
              "</table>\n",
              "</div>"
            ],
            "text/plain": [
              "  timestamp detector  participant_number  id_result detected  exec_time\n",
              "0      0:17      ear                   1          2       no        NaN\n",
              "1      0:21      ear                   1          2       no        NaN\n",
              "2      0:36      ear                   1          2       no        NaN\n",
              "3      9:15      ear                   1          2       no        NaN\n",
              "4      1:57      mar                   1          2       no        NaN"
            ]
          },
          "metadata": {
            "tags": []
          },
          "execution_count": 10
        }
      ]
    },
    {
      "cell_type": "code",
      "metadata": {
        "id": "ejpRzbtsSSpD"
      },
      "source": [
        "# # right at the label time\n",
        "# for data_row in data.itertuples():\n",
        "#   for label_row in label.itertuples():\n",
        "#     if label_row.timestamp == data_row.timestamp:\n",
        "#       if label_row.id_result == data_row.id:\n",
        "#         if label_row.detector == data_row.detector:\n",
        "#           label.loc[label.index == label_row.Index, 'detected'] = 'yes'\n",
        "#           label.loc[label.index == label_row.Index, 'exec_time'] = data.loc[data.index == data_row.Index, 'time' ].item()\n",
        "\n",
        "# right at the label time and label time + 1 sec\n",
        "for data_row in data.itertuples():\n",
        "  for label_row in label.itertuples():\n",
        "    if (label_row.timestamp == data_row.timestamp and \n",
        "    label_row.id_result == data_row.id and\n",
        "    label_row.detector == data_row.detector):\n",
        "      if label.loc[label.index==label_row.Index, 'detected'].item() == 'yes':\n",
        "        continue\n",
        "      else:\n",
        "        label.loc[label.index == label_row.Index, 'detected'] = 'yes'\n",
        "        label.loc[label.index == label_row.Index, 'exec_time'] = data.loc[data.index == data_row.Index, 'time' ].item()\n",
        "    else:\n",
        "      ts = data.loc[data.index == data_row.Index, 'timestamp'].item()\n",
        "      ts = ts.split(':')\n",
        "      ts = list(map(int, ts))\n",
        "      if ts[1] == 59:\n",
        "        # menit\n",
        "        ts[0] += 1\n",
        "        # detik\n",
        "        ts[1] = 0\n",
        "      else:\n",
        "        # detik\n",
        "        ts[1] += 1\n",
        "      ts = str(ts[0]) + ':' + str(ts[1])\n",
        "\n",
        "      if (label_row.timestamp == ts and \n",
        "      label_row.id_result == data_row.id and\n",
        "      label_row.detector == data_row.detector):\n",
        "        if label.loc[label.index==label_row.Index, 'detected'].item() == 'yes':\n",
        "          continue\n",
        "        else:\n",
        "          label.loc[label.index == label_row.Index, 'detected'] = 'yes'\n",
        "          label.loc[label.index == label_row.Index, 'exec_time'] = data.loc[data.index == data_row.Index, 'time' ].item()"
      ],
      "execution_count": 11,
      "outputs": []
    },
    {
      "cell_type": "code",
      "metadata": {
        "colab": {
          "base_uri": "https://localhost:8080/"
        },
        "id": "7J0le_zYf539",
        "outputId": "fa661f24-4944-4584-8737-8963059b38cf"
      },
      "source": [
        "label['detected'].value_counts()"
      ],
      "execution_count": 12,
      "outputs": [
        {
          "output_type": "execute_result",
          "data": {
            "text/plain": [
              "yes    104\n",
              "no      59\n",
              "Name: detected, dtype: int64"
            ]
          },
          "metadata": {
            "tags": []
          },
          "execution_count": 12
        }
      ]
    },
    {
      "cell_type": "code",
      "metadata": {
        "colab": {
          "base_uri": "https://localhost:8080/",
          "height": 206
        },
        "id": "kbMWReZ-2OIV",
        "outputId": "ff3dc4c7-6c47-4e1f-cc74-6cdd6c5bba43"
      },
      "source": [
        "label.head()"
      ],
      "execution_count": 13,
      "outputs": [
        {
          "output_type": "execute_result",
          "data": {
            "text/html": [
              "<div>\n",
              "<style scoped>\n",
              "    .dataframe tbody tr th:only-of-type {\n",
              "        vertical-align: middle;\n",
              "    }\n",
              "\n",
              "    .dataframe tbody tr th {\n",
              "        vertical-align: top;\n",
              "    }\n",
              "\n",
              "    .dataframe thead th {\n",
              "        text-align: right;\n",
              "    }\n",
              "</style>\n",
              "<table border=\"1\" class=\"dataframe\">\n",
              "  <thead>\n",
              "    <tr style=\"text-align: right;\">\n",
              "      <th></th>\n",
              "      <th>timestamp</th>\n",
              "      <th>detector</th>\n",
              "      <th>participant_number</th>\n",
              "      <th>id_result</th>\n",
              "      <th>detected</th>\n",
              "      <th>exec_time</th>\n",
              "    </tr>\n",
              "  </thead>\n",
              "  <tbody>\n",
              "    <tr>\n",
              "      <th>0</th>\n",
              "      <td>0:17</td>\n",
              "      <td>ear</td>\n",
              "      <td>1</td>\n",
              "      <td>2</td>\n",
              "      <td>no</td>\n",
              "      <td>NaN</td>\n",
              "    </tr>\n",
              "    <tr>\n",
              "      <th>1</th>\n",
              "      <td>0:21</td>\n",
              "      <td>ear</td>\n",
              "      <td>1</td>\n",
              "      <td>2</td>\n",
              "      <td>no</td>\n",
              "      <td>NaN</td>\n",
              "    </tr>\n",
              "    <tr>\n",
              "      <th>2</th>\n",
              "      <td>0:36</td>\n",
              "      <td>ear</td>\n",
              "      <td>1</td>\n",
              "      <td>2</td>\n",
              "      <td>yes</td>\n",
              "      <td>[0.1269692, 0.1308115, 0.1578465, 0.1357965, 0...</td>\n",
              "    </tr>\n",
              "    <tr>\n",
              "      <th>3</th>\n",
              "      <td>9:15</td>\n",
              "      <td>ear</td>\n",
              "      <td>1</td>\n",
              "      <td>2</td>\n",
              "      <td>no</td>\n",
              "      <td>NaN</td>\n",
              "    </tr>\n",
              "    <tr>\n",
              "      <th>4</th>\n",
              "      <td>1:57</td>\n",
              "      <td>mar</td>\n",
              "      <td>1</td>\n",
              "      <td>2</td>\n",
              "      <td>yes</td>\n",
              "      <td>0.1441509</td>\n",
              "    </tr>\n",
              "  </tbody>\n",
              "</table>\n",
              "</div>"
            ],
            "text/plain": [
              "  timestamp  ...                                          exec_time\n",
              "0      0:17  ...                                                NaN\n",
              "1      0:21  ...                                                NaN\n",
              "2      0:36  ...  [0.1269692, 0.1308115, 0.1578465, 0.1357965, 0...\n",
              "3      9:15  ...                                                NaN\n",
              "4      1:57  ...                                          0.1441509\n",
              "\n",
              "[5 rows x 6 columns]"
            ]
          },
          "metadata": {
            "tags": []
          },
          "execution_count": 13
        }
      ]
    },
    {
      "cell_type": "code",
      "metadata": {
        "id": "zXYHx8rMrOo0"
      },
      "source": [
        "# label.to_csv('eight_720.csv')"
      ],
      "execution_count": 14,
      "outputs": []
    }
  ]
}